{
 "cells": [
  {
   "cell_type": "markdown",
   "metadata": {},
   "source": [
    "## Assignment - 1 - Story Analysis"
   ]
  },
  {
   "cell_type": "markdown",
   "metadata": {},
   "source": [
    "## Import Statements"
   ]
  },
  {
   "cell_type": "code",
   "execution_count": 387,
   "metadata": {
    "collapsed": true
   },
   "outputs": [],
   "source": [
    "#author : Akshay Tomar (AK357172)\n",
    "#date : Mar 20, 2017\n",
    "#task : Assignment 1 - Data Munging Assignment\n",
    "\n",
    "\n",
    "#import statements - libs\n",
    "%matplotlib inline\n",
    "import pandas as pd\n",
    "import numpy as np\n",
    "from lxml import etree\n",
    "import matplotlib.pyplot as plt"
   ]
  },
  {
   "cell_type": "code",
   "execution_count": 388,
   "metadata": {
    "collapsed": true
   },
   "outputs": [],
   "source": [
    "filename = [\"Tomato_2014.xml\", \"Tomato_2015.xml\", \"Tomato_2016.xml\"]"
   ]
  },
  {
   "cell_type": "markdown",
   "metadata": {},
   "source": [
    "## Function to parse and extract root node from XML"
   ]
  },
  {
   "cell_type": "code",
   "execution_count": 389,
   "metadata": {
    "collapsed": true
   },
   "outputs": [],
   "source": [
    "def ret_root(file):\n",
    "    tree = etree.parse(file)\n",
    "    root = tree.getroot()\n",
    "    return root"
   ]
  },
  {
   "cell_type": "markdown",
   "metadata": {},
   "source": [
    "## Function to return list of headers - Helper function for getdf"
   ]
  },
  {
   "cell_type": "code",
   "execution_count": 390,
   "metadata": {
    "collapsed": true
   },
   "outputs": [],
   "source": [
    "def head_temp(file, root):\n",
    "    list_main = []\n",
    "    list_headers = root.findall(\".//*[@name='Table']\")[0].getchildren()[0].getchildren()[0].getchildren()\n",
    "    htemp = []\n",
    "    for item in list_headers:\n",
    "        htemp.append(item.values()[0])\n",
    "    return htemp"
   ]
  },
  {
   "cell_type": "markdown",
   "metadata": {},
   "source": [
    "## Function to return XML data as a DataFrame"
   ]
  },
  {
   "cell_type": "code",
   "execution_count": 391,
   "metadata": {
    "collapsed": true
   },
   "outputs": [],
   "source": [
    "def get_df(root, htemp):\n",
    "    list_main = []\n",
    "    list_values = root.findall(\".//*[NewDataSet]\")[0].getchildren()[0].getchildren()\n",
    "    n_tables = (len(list_values))\n",
    "    n_items = len(list_values[0].getchildren())\n",
    "    for tab in range(n_tables):\n",
    "        q_temp=[]\n",
    "        for item in range(n_items):\n",
    "            q_temp.append(list_values[tab].getchildren()[item].text)\n",
    "        list_main.append(q_temp)\n",
    "    df = pd.DataFrame(data=list_main, columns=htemp)\n",
    "    return df"
   ]
  },
  {
   "cell_type": "markdown",
   "metadata": {},
   "source": [
    "## Function to return combined DataFrame for all xml files"
   ]
  },
  {
   "cell_type": "code",
   "execution_count": 392,
   "metadata": {
    "collapsed": true
   },
   "outputs": [],
   "source": [
    "def get_combined_df(dframe, filename):\n",
    "    for file in filename:\n",
    "        root = ret_root(file)\n",
    "        htemp = head_temp(file, root)\n",
    "        df_ = get_df(root, htemp)\n",
    "        dframe = dframe.append(df_, ignore_index=True)\n",
    "    return dframe"
   ]
  },
  {
   "cell_type": "markdown",
   "metadata": {},
   "source": [
    "## Helper function for change_dtime"
   ]
  },
  {
   "cell_type": "code",
   "execution_count": 393,
   "metadata": {
    "collapsed": true
   },
   "outputs": [],
   "source": [
    "def dec_season(val):\n",
    "    if ((val > 4) & (val < 8)):\n",
    "        temp = \"Summer\"\n",
    "        return temp\n",
    "    elif ((val > 7) & (val < 11)):\n",
    "        temp = \"Autumn\"\n",
    "        return temp\n",
    "    elif ((val>10) | (val<2)):\n",
    "        temp = \"Winter\"\n",
    "        return temp\n",
    "    else:\n",
    "        temp = \"Spring\"\n",
    "        return temp  "
   ]
  },
  {
   "cell_type": "markdown",
   "metadata": {},
   "source": [
    "## Function to add Year & Seasons columns to DataFrame"
   ]
  },
  {
   "cell_type": "code",
   "execution_count": 402,
   "metadata": {
    "collapsed": false
   },
   "outputs": [],
   "source": [
    "def change_dtime(df):\n",
    "    A_time = pd.to_datetime(pd.Series(df[\"Arrival_Date\"]), dayfirst = True)\n",
    "    df['Month'] = A_time.dt.month\n",
    "    df['Year'] = A_time.dt.year\n",
    "    df['Season'] = df['Month'].apply(dec_season)\n",
    "    return df"
   ]
  },
  {
   "cell_type": "code",
   "execution_count": 403,
   "metadata": {
    "collapsed": false
   },
   "outputs": [],
   "source": [
    "root = ret_root(filename[0])\n",
    "htemplst = head_temp(filename[0], root)\n",
    "df = pd.DataFrame(columns=htemplst)"
   ]
  },
  {
   "cell_type": "markdown",
   "metadata": {},
   "source": [
    "## Getting combined DataFrame for 3 years"
   ]
  },
  {
   "cell_type": "code",
   "execution_count": 404,
   "metadata": {
    "collapsed": false
   },
   "outputs": [],
   "source": [
    "df = get_combined_df(df, filename)"
   ]
  },
  {
   "cell_type": "code",
   "execution_count": 405,
   "metadata": {
    "collapsed": false
   },
   "outputs": [],
   "source": [
    "df.is_copy = False"
   ]
  },
  {
   "cell_type": "code",
   "execution_count": 406,
   "metadata": {
    "collapsed": false
   },
   "outputs": [],
   "source": [
    "df['Min_x0020_Price'] = df['Min_x0020_Price'].astype(float)\n",
    "df['Max_x0020_Price'] = df['Max_x0020_Price'].astype(float)\n",
    "df['Modal_x0020_Price'] = df['Modal_x0020_Price'].astype(float)"
   ]
  },
  {
   "cell_type": "code",
   "execution_count": 408,
   "metadata": {
    "collapsed": false
   },
   "outputs": [],
   "source": [
    "df = change_dtime(df)"
   ]
  },
  {
   "cell_type": "markdown",
   "metadata": {},
   "source": [
    "## Creating new DataFrame with specified columns"
   ]
  },
  {
   "cell_type": "code",
   "execution_count": 558,
   "metadata": {
    "collapsed": false
   },
   "outputs": [],
   "source": [
    "df_new = pd.DataFrame(data=df, columns=['State', 'District', 'Variety', 'Modal_x0020_Price', 'Season'])"
   ]
  },
  {
   "cell_type": "code",
   "execution_count": 575,
   "metadata": {
    "collapsed": false
   },
   "outputs": [],
   "source": [
    "df_new_sorted = df_new.sort_values(by='Modal_x0020_Price', ascending=False)"
   ]
  },
  {
   "cell_type": "markdown",
   "metadata": {},
   "source": [
    "## Conclusion - 1 - Farmer's POV - Which Variety to plant ?"
   ]
  },
  {
   "cell_type": "markdown",
   "metadata": {},
   "source": [
    "## Taking mean price for different tomato varieties"
   ]
  },
  {
   "cell_type": "code",
   "execution_count": 576,
   "metadata": {
    "collapsed": false
   },
   "outputs": [],
   "source": [
    "df_new_sorted = df_new_sorted.groupby(['State', 'Season', 'Variety']).mean()"
   ]
  },
  {
   "cell_type": "code",
   "execution_count": 577,
   "metadata": {
    "collapsed": false
   },
   "outputs": [],
   "source": [
    "df_new_sorted.reset_index(inplace=True)"
   ]
  },
  {
   "cell_type": "markdown",
   "metadata": {},
   "source": [
    "## Finding out the best Variety to plant, according to the mean of their prices"
   ]
  },
  {
   "cell_type": "code",
   "execution_count": 579,
   "metadata": {
    "collapsed": false
   },
   "outputs": [],
   "source": [
    "df_new_sorted = df_new_sorted.sort_values(by='Modal_x0020_Price', ascending=False)"
   ]
  },
  {
   "cell_type": "code",
   "execution_count": 580,
   "metadata": {
    "collapsed": false
   },
   "outputs": [],
   "source": [
    "df_new_sorted.reset_index(inplace=True)"
   ]
  },
  {
   "cell_type": "code",
   "execution_count": 581,
   "metadata": {
    "collapsed": false
   },
   "outputs": [],
   "source": [
    "df_new_sorted = df_new_sorted.groupby(['State', 'Season']).first()"
   ]
  },
  {
   "cell_type": "code",
   "execution_count": 582,
   "metadata": {
    "collapsed": false
   },
   "outputs": [],
   "source": [
    "df_new_sorted.reset_index(inplace=True)"
   ]
  },
  {
   "cell_type": "markdown",
   "metadata": {},
   "source": [
    "## Output of conclusion - 1"
   ]
  },
  {
   "cell_type": "code",
   "execution_count": 584,
   "metadata": {
    "collapsed": true
   },
   "outputs": [],
   "source": [
    "df_new_sorted_pivoted = df_new_sorted.pivot(index = 'State', columns = 'Season', values = 'Variety')"
   ]
  },
  {
   "cell_type": "code",
   "execution_count": 586,
   "metadata": {
    "collapsed": false
   },
   "outputs": [
    {
     "data": {
      "text/html": [
       "<div>\n",
       "<table border=\"1\" class=\"dataframe\">\n",
       "  <thead>\n",
       "    <tr style=\"text-align: right;\">\n",
       "      <th>Season</th>\n",
       "      <th>Autumn</th>\n",
       "      <th>Spring</th>\n",
       "      <th>Summer</th>\n",
       "      <th>Winter</th>\n",
       "    </tr>\n",
       "    <tr>\n",
       "      <th>State</th>\n",
       "      <th></th>\n",
       "      <th></th>\n",
       "      <th></th>\n",
       "      <th></th>\n",
       "    </tr>\n",
       "  </thead>\n",
       "  <tbody>\n",
       "    <tr>\n",
       "      <th>Andaman and Nicobar</th>\n",
       "      <td>Other</td>\n",
       "      <td>Other</td>\n",
       "      <td>Other</td>\n",
       "      <td>Other</td>\n",
       "    </tr>\n",
       "    <tr>\n",
       "      <th>Andhra Pradesh</th>\n",
       "      <td>Deshi</td>\n",
       "      <td>Deshi</td>\n",
       "      <td>Deshi</td>\n",
       "      <td>Tomato</td>\n",
       "    </tr>\n",
       "    <tr>\n",
       "      <th>Assam</th>\n",
       "      <td>Other</td>\n",
       "      <td>Deshi</td>\n",
       "      <td>Tomato</td>\n",
       "      <td>Tomato</td>\n",
       "    </tr>\n",
       "    <tr>\n",
       "      <th>Bihar</th>\n",
       "      <td>Other</td>\n",
       "      <td>Other</td>\n",
       "      <td>Other</td>\n",
       "      <td>Other</td>\n",
       "    </tr>\n",
       "    <tr>\n",
       "      <th>Chandigarh</th>\n",
       "      <td>Other</td>\n",
       "      <td>Other</td>\n",
       "      <td>Other</td>\n",
       "      <td>Other</td>\n",
       "    </tr>\n",
       "    <tr>\n",
       "      <th>Chattisgarh</th>\n",
       "      <td>Other</td>\n",
       "      <td>Other</td>\n",
       "      <td>Other</td>\n",
       "      <td>Local</td>\n",
       "    </tr>\n",
       "    <tr>\n",
       "      <th>Gujarat</th>\n",
       "      <td>Other</td>\n",
       "      <td>Tomato</td>\n",
       "      <td>Tomato</td>\n",
       "      <td>Tomato</td>\n",
       "    </tr>\n",
       "    <tr>\n",
       "      <th>Haryana</th>\n",
       "      <td>Sankar</td>\n",
       "      <td>Hybrid</td>\n",
       "      <td>Other</td>\n",
       "      <td>Other</td>\n",
       "    </tr>\n",
       "    <tr>\n",
       "      <th>Himachal Pradesh</th>\n",
       "      <td>Local</td>\n",
       "      <td>Other</td>\n",
       "      <td>Local</td>\n",
       "      <td>Tomato</td>\n",
       "    </tr>\n",
       "    <tr>\n",
       "      <th>Jammu and Kashmir</th>\n",
       "      <td>Local</td>\n",
       "      <td>Local</td>\n",
       "      <td>Other</td>\n",
       "      <td>Other</td>\n",
       "    </tr>\n",
       "    <tr>\n",
       "      <th>Jharkhand</th>\n",
       "      <td>Tomato</td>\n",
       "      <td>Tomato</td>\n",
       "      <td>Tomato</td>\n",
       "      <td>Deshi</td>\n",
       "    </tr>\n",
       "    <tr>\n",
       "      <th>Karnataka</th>\n",
       "      <td>Hybrid</td>\n",
       "      <td>Hybrid</td>\n",
       "      <td>Hybrid</td>\n",
       "      <td>Hybrid</td>\n",
       "    </tr>\n",
       "    <tr>\n",
       "      <th>Kerala</th>\n",
       "      <td>Hybrid</td>\n",
       "      <td>Hybrid</td>\n",
       "      <td>Hybrid</td>\n",
       "      <td>Hybrid</td>\n",
       "    </tr>\n",
       "    <tr>\n",
       "      <th>Madhya Pradesh</th>\n",
       "      <td>Hybrid</td>\n",
       "      <td>Hybrid</td>\n",
       "      <td>Deshi</td>\n",
       "      <td>Other</td>\n",
       "    </tr>\n",
       "    <tr>\n",
       "      <th>Maharashtra</th>\n",
       "      <td>Other</td>\n",
       "      <td>Other</td>\n",
       "      <td>Other</td>\n",
       "      <td>Other</td>\n",
       "    </tr>\n",
       "    <tr>\n",
       "      <th>Meghalaya</th>\n",
       "      <td>Other</td>\n",
       "      <td>Local</td>\n",
       "      <td>Other</td>\n",
       "      <td>Other</td>\n",
       "    </tr>\n",
       "    <tr>\n",
       "      <th>Mizoram</th>\n",
       "      <td>Other</td>\n",
       "      <td>Other</td>\n",
       "      <td>Other</td>\n",
       "      <td>Other</td>\n",
       "    </tr>\n",
       "    <tr>\n",
       "      <th>NCT of Delhi</th>\n",
       "      <td>Other</td>\n",
       "      <td>Tomato</td>\n",
       "      <td>Local</td>\n",
       "      <td>Tomato</td>\n",
       "    </tr>\n",
       "    <tr>\n",
       "      <th>Nagaland</th>\n",
       "      <td>Tomato</td>\n",
       "      <td>Tomato</td>\n",
       "      <td>Tomato</td>\n",
       "      <td>Tomato</td>\n",
       "    </tr>\n",
       "    <tr>\n",
       "      <th>Orissa</th>\n",
       "      <td>Deshi</td>\n",
       "      <td>Hybrid</td>\n",
       "      <td>Deshi</td>\n",
       "      <td>Tomato</td>\n",
       "    </tr>\n",
       "    <tr>\n",
       "      <th>Punjab</th>\n",
       "      <td>Hybrid</td>\n",
       "      <td>Hybrid</td>\n",
       "      <td>Hybrid</td>\n",
       "      <td>Tomato</td>\n",
       "    </tr>\n",
       "    <tr>\n",
       "      <th>Rajasthan</th>\n",
       "      <td>Local</td>\n",
       "      <td>Local</td>\n",
       "      <td>Other</td>\n",
       "      <td>Other</td>\n",
       "    </tr>\n",
       "    <tr>\n",
       "      <th>Telangana</th>\n",
       "      <td>Tomato</td>\n",
       "      <td>Deshi</td>\n",
       "      <td>Deshi</td>\n",
       "      <td>Sankar</td>\n",
       "    </tr>\n",
       "    <tr>\n",
       "      <th>Tripura</th>\n",
       "      <td>Tomato</td>\n",
       "      <td>Tomato</td>\n",
       "      <td>Tomato</td>\n",
       "      <td>Tomato</td>\n",
       "    </tr>\n",
       "    <tr>\n",
       "      <th>Uttar Pradesh</th>\n",
       "      <td>Hybrid</td>\n",
       "      <td>Hybrid</td>\n",
       "      <td>Hybrid</td>\n",
       "      <td>Tomato</td>\n",
       "    </tr>\n",
       "    <tr>\n",
       "      <th>Uttrakhand</th>\n",
       "      <td>Other</td>\n",
       "      <td>Other</td>\n",
       "      <td>Other</td>\n",
       "      <td>Other</td>\n",
       "    </tr>\n",
       "    <tr>\n",
       "      <th>West Bengal</th>\n",
       "      <td>Local</td>\n",
       "      <td>Other</td>\n",
       "      <td>Other</td>\n",
       "      <td>Tomato</td>\n",
       "    </tr>\n",
       "  </tbody>\n",
       "</table>\n",
       "</div>"
      ],
      "text/plain": [
       "Season               Autumn  Spring  Summer  Winter\n",
       "State                                              \n",
       "Andaman and Nicobar   Other   Other   Other   Other\n",
       "Andhra Pradesh        Deshi   Deshi   Deshi  Tomato\n",
       "Assam                 Other   Deshi  Tomato  Tomato\n",
       "Bihar                 Other   Other   Other   Other\n",
       "Chandigarh            Other   Other   Other   Other\n",
       "Chattisgarh           Other   Other   Other   Local\n",
       "Gujarat               Other  Tomato  Tomato  Tomato\n",
       "Haryana              Sankar  Hybrid   Other   Other\n",
       "Himachal Pradesh      Local   Other   Local  Tomato\n",
       "Jammu and Kashmir     Local   Local   Other   Other\n",
       "Jharkhand            Tomato  Tomato  Tomato   Deshi\n",
       "Karnataka            Hybrid  Hybrid  Hybrid  Hybrid\n",
       "Kerala               Hybrid  Hybrid  Hybrid  Hybrid\n",
       "Madhya Pradesh       Hybrid  Hybrid   Deshi   Other\n",
       "Maharashtra           Other   Other   Other   Other\n",
       "Meghalaya             Other   Local   Other   Other\n",
       "Mizoram               Other   Other   Other   Other\n",
       "NCT of Delhi          Other  Tomato   Local  Tomato\n",
       "Nagaland             Tomato  Tomato  Tomato  Tomato\n",
       "Orissa                Deshi  Hybrid   Deshi  Tomato\n",
       "Punjab               Hybrid  Hybrid  Hybrid  Tomato\n",
       "Rajasthan             Local   Local   Other   Other\n",
       "Telangana            Tomato   Deshi   Deshi  Sankar\n",
       "Tripura              Tomato  Tomato  Tomato  Tomato\n",
       "Uttar Pradesh        Hybrid  Hybrid  Hybrid  Tomato\n",
       "Uttrakhand            Other   Other   Other   Other\n",
       "West Bengal           Local   Other   Other  Tomato"
      ]
     },
     "execution_count": 586,
     "metadata": {},
     "output_type": "execute_result"
    }
   ],
   "source": [
    "df_new_sorted_pivoted"
   ]
  },
  {
   "cell_type": "markdown",
   "metadata": {},
   "source": [
    "## Conclusion - 2 - How much profits/SP can you get using conclusion 1 ?"
   ]
  },
  {
   "cell_type": "code",
   "execution_count": 587,
   "metadata": {
    "collapsed": false
   },
   "outputs": [],
   "source": [
    "val = df_new_sorted.groupby(['State', 'Season'])[\"Modal_x0020_Price\"].mean().unstack()"
   ]
  },
  {
   "cell_type": "code",
   "execution_count": 588,
   "metadata": {
    "collapsed": true
   },
   "outputs": [
    {
     "data": {
      "text/html": [
       "<div>\n",
       "<table border=\"1\" class=\"dataframe\">\n",
       "  <thead>\n",
       "    <tr style=\"text-align: right;\">\n",
       "      <th>Season</th>\n",
       "      <th>Autumn</th>\n",
       "      <th>Spring</th>\n",
       "      <th>Summer</th>\n",
       "      <th>Winter</th>\n",
       "    </tr>\n",
       "    <tr>\n",
       "      <th>State</th>\n",
       "      <th></th>\n",
       "      <th></th>\n",
       "      <th></th>\n",
       "      <th></th>\n",
       "    </tr>\n",
       "  </thead>\n",
       "  <tbody>\n",
       "    <tr>\n",
       "      <th>Andaman and Nicobar</th>\n",
       "      <td>8459.677419</td>\n",
       "      <td>5578.571429</td>\n",
       "      <td>9300.000000</td>\n",
       "      <td>7939.024390</td>\n",
       "    </tr>\n",
       "    <tr>\n",
       "      <th>Andhra Pradesh</th>\n",
       "      <td>1843.485393</td>\n",
       "      <td>1155.759312</td>\n",
       "      <td>2823.989899</td>\n",
       "      <td>1950.215569</td>\n",
       "    </tr>\n",
       "    <tr>\n",
       "      <th>Assam</th>\n",
       "      <td>3406.081081</td>\n",
       "      <td>2400.000000</td>\n",
       "      <td>2407.299270</td>\n",
       "      <td>2107.841410</td>\n",
       "    </tr>\n",
       "    <tr>\n",
       "      <th>Bihar</th>\n",
       "      <td>5362.500000</td>\n",
       "      <td>5500.000000</td>\n",
       "      <td>5250.000000</td>\n",
       "      <td>4097.647059</td>\n",
       "    </tr>\n",
       "    <tr>\n",
       "      <th>Chandigarh</th>\n",
       "      <td>1255.925926</td>\n",
       "      <td>842.109375</td>\n",
       "      <td>1279.607843</td>\n",
       "      <td>1211.269841</td>\n",
       "    </tr>\n",
       "  </tbody>\n",
       "</table>\n",
       "</div>"
      ],
      "text/plain": [
       "Season                    Autumn       Spring       Summer       Winter\n",
       "State                                                                  \n",
       "Andaman and Nicobar  8459.677419  5578.571429  9300.000000  7939.024390\n",
       "Andhra Pradesh       1843.485393  1155.759312  2823.989899  1950.215569\n",
       "Assam                3406.081081  2400.000000  2407.299270  2107.841410\n",
       "Bihar                5362.500000  5500.000000  5250.000000  4097.647059\n",
       "Chandigarh           1255.925926   842.109375  1279.607843  1211.269841"
      ]
     },
     "execution_count": 588,
     "metadata": {},
     "output_type": "execute_result"
    }
   ],
   "source": [
    "val.head()"
   ]
  },
  {
   "cell_type": "markdown",
   "metadata": {},
   "source": [
    "Plotting graph for Conclusion - 2"
   ]
  },
  {
   "cell_type": "code",
   "execution_count": 589,
   "metadata": {
    "collapsed": false
   },
   "outputs": [
    {
     "data": {
      "text/plain": [
       "<matplotlib.text.Text at 0x7ff2c3ff5c88>"
      ]
     },
     "execution_count": 589,
     "metadata": {},
     "output_type": "execute_result"
    },
    {
     "data": {
      "image/png": "[encoded data removed]",
      "text/plain": [
       "<matplotlib.figure.Figure at 0x7ff2bfdbd630>"
      ]
     },
     "metadata": {},
     "output_type": "display_data"
    }
   ],
   "source": [
    "ax = val.plot(kind = 'bar', \n",
    "              stacked = False, \n",
    "              figsize = (15.0, 10.0), \n",
    "              title=(\"Best Prices of Tomato for a State & a Season\"))\n",
    "ax.set_xlabel(\"Seasons\")\n",
    "ax.set_ylabel(\"Mean Price\")"
   ]
  },
  {
   "cell_type": "markdown",
   "metadata": {},
   "source": [
    "## Some extra analysis"
   ]
  },
  {
   "cell_type": "code",
   "execution_count": 593,
   "metadata": {
    "collapsed": false
   },
   "outputs": [],
   "source": [
    "val2 = df_new_sorted.groupby(['Season', 'Variety'])[\"Modal_x0020_Price\"].mean().unstack()"
   ]
  },
  {
   "cell_type": "code",
   "execution_count": 595,
   "metadata": {
    "collapsed": false
   },
   "outputs": [
    {
     "data": {
      "text/plain": [
       "<matplotlib.text.Text at 0x7ff2df5a4780>"
      ]
     },
     "execution_count": 595,
     "metadata": {},
     "output_type": "execute_result"
    },
    {
     "data": {
      "image/png": "[encoded data removed]",
      "text/plain": [
       "<matplotlib.figure.Figure at 0x7ff2bfbe4978>"
      ]
     },
     "metadata": {},
     "output_type": "display_data"
    }
   ],
   "source": [
    "ax2 = val2.plot(kind='bar', \n",
    "              stacked=False, \n",
    "              figsize=(15.0, 10.0), \n",
    "              title=(\"Best Prices of Tomato for a State & a Season\"),\n",
    "              legend=True,\n",
    "              color=['r','g','b'])\n",
    "ax2.set_xlabel(\"Seasons\")\n",
    "ax2.set_ylabel(\"Modal Price\")"
   ]
  }
 ],
 "metadata": {
  "kernelspec": {
   "display_name": "Python 3",
   "language": "python",
   "name": "python3"
  },
  "language_info": {
   "codemirror_mode": {
    "name": "ipython",
    "version": 3
   },
   "file_extension": ".py",
   "mimetype": "text/x-python",
   "name": "python",
   "nbconvert_exporter": "python",
   "pygments_lexer": "ipython3",
   "version": "3.5.2"
  }
 },
 "nbformat": 4,
 "nbformat_minor": 2
}
