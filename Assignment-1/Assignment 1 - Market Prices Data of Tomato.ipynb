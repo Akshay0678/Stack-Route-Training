{
 "cells": [
  {
   "cell_type": "markdown",
   "metadata": {
    "deletable": true,
    "editable": true
   },
   "source": [
    "## ASSIGNMENT - 1 - Market Prices Data of Tomato"
   ]
  },
  {
   "cell_type": "markdown",
   "metadata": {
    "deletable": true,
    "editable": true
   },
   "source": [
    "## Import Statements"
   ]
  },
  {
   "cell_type": "code",
   "execution_count": 65,
   "metadata": {
    "collapsed": false,
    "deletable": true,
    "editable": true
   },
   "outputs": [],
   "source": [
    "#author : Akshay Tomar (AK357172)\n",
    "#date : Mar 20, 2017\n",
    "#task : Assignment 1 - Data Munging Assignment\n",
    "\n",
    "\n",
    "#import statements - libs\n",
    "%matplotlib inline\n",
    "import pandas as pd\n",
    "import numpy as np\n",
    "from lxml import etree\n",
    "import matplotlib.pyplot as plt"
   ]
  },
  {
   "cell_type": "code",
   "execution_count": 66,
   "metadata": {
    "collapsed": false,
    "deletable": true,
    "editable": true
   },
   "outputs": [],
   "source": [
    "filename = [\"Tomato_2014.xml\", \"Tomato_2015.xml\", \"Tomato_2016.xml\"]"
   ]
  },
  {
   "cell_type": "markdown",
   "metadata": {
    "deletable": true,
    "editable": true
   },
   "source": [
    "## Function to parse and extract root node from XML "
   ]
  },
  {
   "cell_type": "code",
   "execution_count": 73,
   "metadata": {
    "collapsed": false,
    "deletable": true,
    "editable": true
   },
   "outputs": [],
   "source": [
    "def ret_root(file):\n",
    "    tree = etree.parse(file)\n",
    "    root = tree.getroot()\n",
    "    return root"
   ]
  },
  {
   "cell_type": "markdown",
   "metadata": {},
   "source": [
    "## Function to return list of headers - Helper function for getdf"
   ]
  },
  {
   "cell_type": "code",
   "execution_count": 74,
   "metadata": {
    "collapsed": false,
    "deletable": true,
    "editable": true
   },
   "outputs": [],
   "source": [
    "#func name as h_temp():\n",
    "def h_temp(file, root):\n",
    "    list_main = []\n",
    "    list_headers = root.findall(\".//*[@name='Table']\")[0].getchildren()[0].getchildren()[0].getchildren()\n",
    "    htemp = []\n",
    "    for item in list_headers:\n",
    "        htemp.append(item.values()[0])\n",
    "    return htemp"
   ]
  },
  {
   "cell_type": "markdown",
   "metadata": {
    "deletable": true,
    "editable": true
   },
   "source": [
    "## Function to return XML data as a DataFrame"
   ]
  },
  {
   "cell_type": "code",
   "execution_count": 75,
   "metadata": {
    "collapsed": false,
    "deletable": true,
    "editable": true
   },
   "outputs": [],
   "source": [
    "def get_df(root, h_temp):\n",
    "    list_main = []\n",
    "    list_values = root.findall(\".//*[NewDataSet]\")[0].getchildren()[0].getchildren()\n",
    "    n_tables = (len(list_values))\n",
    "    n_items = len(list_values[0].getchildren())\n",
    "    for tab in range(n_tables):\n",
    "        q_temp=[]\n",
    "        for item in range(n_items):\n",
    "            q_temp.append(list_values[tab].getchildren()[item].text)\n",
    "        list_main.append(q_temp)\n",
    "    df = pd.DataFrame(data=list_main, columns=h_temp)\n",
    "    return df"
   ]
  },
  {
   "cell_type": "markdown",
   "metadata": {
    "deletable": true,
    "editable": true
   },
   "source": [
    "## Function to return combined DataFrame for all xml files"
   ]
  },
  {
   "cell_type": "code",
   "execution_count": 76,
   "metadata": {
    "collapsed": false,
    "deletable": true,
    "editable": true
   },
   "outputs": [],
   "source": [
    "def get_combined_df(dframe, filename):\n",
    "    for file in filename:\n",
    "        root = ret_root(file)\n",
    "        h_temp_ = h_temp(file, root)\n",
    "        df_ = get_df(root, h_temp_)\n",
    "        dframe = dframe.append(df_, ignore_index=True)\n",
    "    return dframe"
   ]
  },
  {
   "cell_type": "markdown",
   "metadata": {},
   "source": [
    "## Helper function for changeDTime"
   ]
  },
  {
   "cell_type": "code",
   "execution_count": 77,
   "metadata": {
    "collapsed": true,
    "deletable": true,
    "editable": true
   },
   "outputs": [],
   "source": [
    "def dec_season(val):\n",
    "    if ((val > 4) & (val < 8)):\n",
    "        temp = \"Summer\"\n",
    "        return temp\n",
    "    elif ((val > 7) & (val < 11)):\n",
    "        temp = \"Autumn\"\n",
    "        return temp\n",
    "    elif ((val>10) | (val<2)):\n",
    "        temp = \"Winter\"\n",
    "        return temp\n",
    "    else:\n",
    "        temp = \"Spring\"\n",
    "        return temp  "
   ]
  },
  {
   "cell_type": "markdown",
   "metadata": {},
   "source": [
    "## Function to add Day, Month, Year & Seasons columns to DataFrame"
   ]
  },
  {
   "cell_type": "code",
   "execution_count": 78,
   "metadata": {
    "collapsed": false,
    "deletable": true,
    "editable": true
   },
   "outputs": [],
   "source": [
    "def change_dtime(df):\n",
    "    A_time = pd.to_datetime(pd.Series(df[\"Arrival_Date\"]), dayfirst = True)\n",
    "    df['Day'] = A_time.dt.day\n",
    "    df['Month'] = A_time.dt.month\n",
    "    df['Year'] = A_time.dt.year\n",
    "    df['Season'] = df['Month'].apply(decSeason)\n",
    "    return df"
   ]
  },
  {
   "cell_type": "code",
   "execution_count": 79,
   "metadata": {
    "collapsed": false,
    "deletable": true,
    "editable": true
   },
   "outputs": [],
   "source": [
    "root = ret_root(filename[0])\n",
    "htemp = h_temp(filename[0], root)\n",
    "df = pd.DataFrame(columns=htemp)"
   ]
  },
  {
   "cell_type": "code",
   "execution_count": 80,
   "metadata": {
    "collapsed": false,
    "deletable": true,
    "editable": true
   },
   "outputs": [],
   "source": [
    "df = get_combined_df(df, filename)"
   ]
  },
  {
   "cell_type": "markdown",
   "metadata": {
    "deletable": true,
    "editable": true
   },
   "source": [
    "## Creating DataFrame for Ques1"
   ]
  },
  {
   "cell_type": "code",
   "execution_count": 81,
   "metadata": {
    "collapsed": false,
    "deletable": true,
    "editable": true
   },
   "outputs": [],
   "source": [
    "df_q1 = df[(df[\"Market\"] == \"Kalikiri\") & (df[\"Commodity\"] == \"Tomato\")]\n",
    "df_q1.is_copy = False\n",
    "df_q1 = changeDTime(df_q1)\n",
    "df_q1 = df_q1[(df_q1[\"Month\"] == 1) & (df_q1[\"Year\"] == 2014)]"
   ]
  },
  {
   "cell_type": "markdown",
   "metadata": {
    "deletable": true,
    "editable": true
   },
   "source": [
    "## Creating DataFrame for Ques2"
   ]
  },
  {
   "cell_type": "code",
   "execution_count": 82,
   "metadata": {
    "collapsed": false,
    "deletable": true,
    "editable": true
   },
   "outputs": [],
   "source": [
    "df_q2 = df[df[\"State\"] == \"Andhra Pradesh\"]\n",
    "df_q2.is_copy = False"
   ]
  },
  {
   "cell_type": "code",
   "execution_count": 83,
   "metadata": {
    "collapsed": false,
    "deletable": true,
    "editable": true
   },
   "outputs": [],
   "source": [
    "df_q2 = changeDTime(df_q2)"
   ]
  },
  {
   "cell_type": "markdown",
   "metadata": {
    "deletable": true,
    "editable": true
   },
   "source": [
    "## Function for creating graph for Ques-1"
   ]
  },
  {
   "cell_type": "code",
   "execution_count": 84,
   "metadata": {
    "collapsed": false,
    "deletable": true,
    "editable": true
   },
   "outputs": [],
   "source": [
    "def q1(df_kal):\n",
    "    ad = list(df_kal[\"Arrival_Date\"])\n",
    "    ar = list(df_kal[\"Arrival_Date\"].index)\n",
    "    min_price = df_kal[\"Min_x0020_Price\"]\n",
    "    max_price = df_kal[\"Max_x0020_Price\"]\n",
    "    modal_price = df_kal[\"Modal_x0020_Price\"]\n",
    "    plt.xlabel(\"Dates\")\n",
    "    plt.ylabel(\"Prices\")\n",
    "    plt.xticks(ar, ad, rotation=90)\n",
    "    plt.title(\"Market Prices Data of Tomato - for Jan 2014 only\")\n",
    "    l1 = plt.plot(min_price, label = \"Min Price\")\n",
    "    l2 = plt.plot(max_price, label = \"Max Price\")\n",
    "    l3 = plt.plot(modal_price, label = \"Modal Price\")\n",
    "    fig_size=[12,9]\n",
    "    plt.legend()\n",
    "    plt.rcParams[\"figure.figsize\"] = fig_size\n",
    "    plt.tight_layout()\n",
    "    plt.show()"
   ]
  },
  {
   "cell_type": "code",
   "execution_count": 86,
   "metadata": {
    "collapsed": false,
    "deletable": true,
    "editable": true
   },
   "outputs": [
    {
     "data": {
      "image/png": "[encoded data removed]",
      "text/plain": [
       "<matplotlib.figure.Figure at 0x7fdc0876d588>"
      ]
     },
     "metadata": {},
     "output_type": "display_data"
    }
   ],
   "source": [
    "q1(df_q1)"
   ]
  },
  {
   "cell_type": "markdown",
   "metadata": {
    "deletable": true,
    "editable": true
   },
   "source": [
    "## Preprocessing to get final DataFrame for Ques-2"
   ]
  },
  {
   "cell_type": "code",
   "execution_count": 88,
   "metadata": {
    "collapsed": false,
    "deletable": true,
    "editable": true
   },
   "outputs": [],
   "source": [
    "def preprocess_q2(df):\n",
    "#     del df['District']\n",
    "#     del df['Market']\n",
    "#     del df['Commodity']\n",
    "#     del df['Variety']\n",
    "#     del df['Arrival_Date']\n",
    "#     del df['Day']\n",
    "#     del df['Month']\n",
    "    df['Min_x0020_Price'] = df['Min_x0020_Price'].astype(int)\n",
    "    df['Max_x0020_Price'] = df['Max_x0020_Price'].astype(int)\n",
    "    df['Modal_x0020_Price'] = df['Modal_x0020_Price'].astype(int)\n",
    "    return df"
   ]
  },
  {
   "cell_type": "code",
   "execution_count": 89,
   "metadata": {
    "collapsed": false,
    "deletable": true,
    "editable": true
   },
   "outputs": [],
   "source": [
    "df_q2 = preprocess_q2(df_q2)"
   ]
  },
  {
   "cell_type": "markdown",
   "metadata": {
    "deletable": true,
    "editable": true
   },
   "source": [
    "## Function for creating graph for Ques-2"
   ]
  },
  {
   "cell_type": "code",
   "execution_count": 90,
   "metadata": {
    "collapsed": false,
    "deletable": true,
    "editable": true
   },
   "outputs": [],
   "source": [
    "def q2(df):\n",
    "    val = df_q2.groupby(['Season', 'Year'])[\"Min_x0020_Price\"].mean().unstack('Year')\n",
    "    ax = val.plot(kind='bar', \n",
    "                  stacked=False, \n",
    "                  figsize=(15.0, 10.0), \n",
    "                  title=(\"Prices of Tomato by Season & Year for AP\"), \n",
    "                  legend=True, \n",
    "                  color = ['r','g','b'])\n",
    "    ax.set_xlabel(\"Seasons\")\n",
    "    ax.set_ylabel(\"Mean Price\")"
   ]
  },
  {
   "cell_type": "code",
   "execution_count": 91,
   "metadata": {
    "collapsed": false,
    "deletable": true,
    "editable": true
   },
   "outputs": [
    {
     "data": {
      "image/png": "[encoded data removed]",
      "text/plain": [
       "<matplotlib.figure.Figure at 0x7fdbfc778be0>"
      ]
     },
     "metadata": {},
     "output_type": "display_data"
    }
   ],
   "source": [
    "q2(df_q2)"
   ]
  }
 ],
 "metadata": {
  "kernelspec": {
   "display_name": "Python 3",
   "language": "python",
   "name": "python3"
  },
  "language_info": {
   "codemirror_mode": {
    "name": "ipython",
    "version": 3
   },
   "file_extension": ".py",
   "mimetype": "text/x-python",
   "name": "python",
   "nbconvert_exporter": "python",
   "pygments_lexer": "ipython3",
   "version": "3.5.2"
  }
 },
 "nbformat": 4,
 "nbformat_minor": 2
}
